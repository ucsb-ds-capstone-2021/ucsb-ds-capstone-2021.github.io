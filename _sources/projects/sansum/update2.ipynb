{
 "cells": [
  {
   "cell_type": "markdown",
   "id": "86ad774e",
   "metadata": {
    "id": "jrLNyrPWantJ"
   },
   "source": [
    "# Update 2\n",
    "![](https://www.sansum.org/wp-content/uploads/2020/05/SDRI_logo_72.png)\n",
    "\n",
    "Capstone members\n",
    "- Lawrence Lin, Zoe Holzer, Emily San Juan, Jake Simon, Vanessa Salgado\n",
    "\n",
    "Faculty\n",
    "- Alexander Franks, Jiajing Zheng, Dr. Namino Glantz, Dr. David Kerr"
   ]
  },
  {
   "cell_type": "markdown",
   "id": "ec66f2f8",
   "metadata": {
    "id": "n9bxvcswantQ"
   },
   "source": [
    "### Things we’ve done since last progress report: \n",
    "- Scoring Qualitative Survey Answers\n",
    "    - Using the scoring rubric to assess scores for survery responses \n",
    "    - e.g. for the Social Needs survey, we would assess a score from all the responses that would tell us what the social needs of an individual\n",
    "    - Another exmaple: Scoring how religious/ spiritual someone is based off of meaning, peace, and faith\n",
    "- Addressing missing data\n",
    "    - Asking questions about missing data\n",
    "    - Removing missing rows and columns\n",
    "- Exploratory Data Analysis\n",
    "    - Compared HbA1c levels to other variables of interest such as whether they have been treated with insulin"
   ]
  },
  {
   "cell_type": "markdown",
   "id": "f8d917b0",
   "metadata": {},
   "source": [
    "### A quick refresher: \n",
    "Data:\n",
    "\n",
    "- Approximately 230 individuals\n",
    "- Each individual participant contributes\n",
    "information on up to 100 different variables relating to their genetics, biology,\n",
    "psychology, behavior and societal/environmental influences\n",
    "\n",
    "Examples of influences measured\n",
    "- Genetic: \n",
    "\n",
    "    - blood sample\n",
    "    - saliva sample\n",
    "\n",
    "- Biological: \n",
    "\n",
    "    - HbA1c levels\n",
    "    - vital signs\n",
    "    - medical history\n",
    "\n",
    "- Psychological: \n",
    "\n",
    "    - Depression (PHQ-9: Patient Health Questionnaire)\n",
    "    - Spirituality (FACIT-Sp-12: Spiritual Well-Being Scale)\n",
    "\n",
    "- Behavioral: \n",
    "\n",
    "    - Sleep (OSQ: Oveido Sleep Questionnaire)\n",
    "    - Diet\n",
    "    \n",
    "- Social-Environmental:\n",
    "\n",
    "    - Demographic information \n",
    "\n",
    "Relevant Jargon:\n",
    "\n",
    "- Type 2 Diabetes (T2D): Type 2 diabetes is an impairment in the way the body regulates and uses sugar (glucose) as a fuel. This long-term (chronic) condition results in too much sugar circulating in the bloodstream. Eventually, high blood sugar levels can lead to disorders of the circulatory, nervous and immune systems.\n",
    "- HbA1c (Hemoglobin A1c): A minor component of hemoglobin (the protein in red blood cells that carries oxygen to the body's tissues) that binds with glucose. HbA1c blood tests are commonly used to measure average blood sugar levels and diagnose diabetes. HbA1c levels are given as a percentage of hemoglobin proteins that are coated with sugar. \n",
    "\n",
    "- Five Determinants of Health: Genetic, Biological, Behavioral, Psychological, and Societal/Environmental factors.\n",
    "\n",
    "Background:\n",
    "\n",
    "Diabetes is the fifth leading cause of death among Latino Americans. Almost 1 in 2 Latino adults are at risk of type 2 diabetes. Recent data from the CDC shows that diabetes rates are twice as high for Latinos of Mexican heritage compared with Whites. This excess burden of diabetes is due to complex, poorly-understood interactions between determinants of health. Some of these include economic challenges, cultural/language/health literacy barriers, pollution, etc. Many of these factors are beyond traditional biological factors; by learning more about these relationships we can identify interventions that can target diabetes outside of traditional clinical options."
   ]
  },
  {
   "cell_type": "markdown",
   "id": "b72f0607",
   "metadata": {},
   "source": [
    "### Analysis Strategy\n",
    "\n",
    "We trichotomized individuals by HbA1c levels. These classes represent an individual's risk of complications from diabetes, based off recommendations from the American Diabetes Association. \n",
    "\n",
    "|HbA1c Class|HbA1c levels|Risk level|Description|\n",
    "|-----------|------------|----------|:----|\n",
    "|     0     |      <7%   | Low Risk |No diabetes, pre-diabetes, or diabetics who are able to control their a1c levels with insulin      |\n",
    "|1|7-9%|Moderate risk|Poor control over diabetes; at risk for complications with heart, kidney, and eyes|\n",
    "|2|>9%|High risk|A1c levels are critically high; Undiagnosed diabetes patients or when current diabetes management is inadequate|\n",
    "\n",
    "Through data visualizations and linear regressions, we attempted to discover a relationship between features and categorical HbA1c class or the numerical HbA1c level."
   ]
  },
  {
   "cell_type": "markdown",
   "id": "e60f82e0",
   "metadata": {},
   "source": [
    "### Exploratory Data Analysis:"
   ]
  },
  {
   "cell_type": "markdown",
   "id": "4833842c",
   "metadata": {},
   "source": [
    "![](./visuals/pca.png)\n",
    "\n",
    "We projected the biological data into three-dimensions and plotted the color-coded points to see if we could identify any trends between the HbA1c classes. There were no clear patterns in this 3D plot."
   ]
  },
  {
   "cell_type": "markdown",
   "id": "72d148a5",
   "metadata": {},
   "source": [
    "![](./visuals/insulin2.png)\n",
    "\n",
    "The histograms above compare the distribution of HbA1c levels of participants treated with Insulin during research and participants not treated during research. The vertical red bar indicates the point at which HbA1c = 7, giving a better view to the distribution of individuals with lower or higher values than 7. Surprisingly, the individuals not treated have lower HbA1c levels, having a skewed right distribution when compared to their treated counterparts. This could be due to the treated participants having a greater need for Insulin, or could be due to the lower number of participants being treated than not being treated."
   ]
  },
  {
   "cell_type": "markdown",
   "id": "7c1453f4",
   "metadata": {
    "id": "YyJ3pMindCd4"
   },
   "source": [
    "![](./visuals/zipcode.png)\n",
    "\n",
    "We stratified the data set into three different tiers of HbA1c levels and plotted their distribution by zipcode. We found a higher proportion of high-risk individuals  in the 93101 and 93117 zip codes. A possible explanation could be the lower air quality in these zip codes."
   ]
  },
  {
   "cell_type": "markdown",
   "id": "91ea4263",
   "metadata": {},
   "source": [
    "![](./visuals/diagnosis.png)\n",
    "\n",
    "The scatter plots display the HbA1c levels of participants over the years based on year of diagnosis. The left plot displays participants treated for insulin during research, while the right plot displays the participants not treated for insulin during research. Both graphs have a solid red bar at the level HbA1c = 7, displaying the two groups used to categorize HbA1c so far in our research. As the years get closer to present day, there is a noticeable negative correlation between diagnosis and HbA1c for both graphs. While the treated group has a higher HbA1c levels for its slope, both groups seem to have a similar slope based on the angle of line depicted in each graph. When measuring the correlations for each group, the treated group had a correlation of -0.065, while the non-treated group had a correlation of -0.052. While separated, the two groups do not produce significant correlations, but when combined they produce a significant correlation with a value of -0.242."
   ]
  },
  {
   "cell_type": "markdown",
   "id": "8242a1c0",
   "metadata": {},
   "source": [
    "![](./visuals/survey.png)\n",
    "\n",
    "FACIT-Sp-12 stands for “Functional Assessment of Chronic Illness Therapy - Spiritual Well-Being 12 Item Scale”. There are three subscores when using the 3-Factor model: meaning, peace and faith. Higher scores imply better spiritual well being. These plots show the differences between the correlation and stratification of A1c in relation to both the FACIT-Sp-12 total score and subscores. \n",
    "These results were surprising to us because we expected a negative correlation between spiritual wellbeing and A1c if any, however the correlations between all scores were positive. It appears that most individuals had high faith scores, but that the meaning subscore actually increased a fair amount with A1c. This could possibly be because as the disease worsens, participants start to find ‘acceptance’ in the absence of initial shock. \n",
    "To explore this result more, we are planning to perform the same test when stratified by both diagnosis date and whether the participant was treated with insulin."
   ]
  },
  {
   "cell_type": "markdown",
   "id": "d34ebfac",
   "metadata": {
    "id": "UpDEkszbantR"
   },
   "source": [
    "### Summary\n",
    "What worked: \n",
    "- Linear Regression\n",
    "    - Found negative correlation between diagnosis date and HbA1c level\n",
    "    - Found positive correlation between faith and HbA1c levels\n",
    "- Data visualization\n",
    "    - Noticed pattern between zip codes and HbA1c class\n",
    "    - Noticed pattern in the HbA1c levels of insulin treated vs not insulin treated individuals\n",
    "    \n",
    "What did not work:\n",
    "- Principle Components Analysis\n",
    "    - PCA on biological data of observations did not yield any noticeable relationships"
   ]
  },
  {
   "cell_type": "markdown",
   "id": "58676383",
   "metadata": {
    "id": "RNC7vrIYantS"
   },
   "source": [
    "### Hopes for the future\n",
    "- Further analyzing questionnaires\n",
    "- Prediction of HbA1c class"
   ]
  },
  {
   "cell_type": "code",
   "execution_count": null,
   "id": "08cb62ca",
   "metadata": {},
   "outputs": [],
   "source": []
  }
 ],
 "metadata": {
  "jupytext": {
   "text_representation": {
    "extension": ".md",
    "format_name": "myst",
    "format_version": 0.12,
    "jupytext_version": "1.9.1"
   }
  },
  "kernelspec": {
   "display_name": "Python 3",
   "language": "python",
   "name": "python3"
  },
  "language_info": {
   "codemirror_mode": {
    "name": "ipython",
    "version": 3
   },
   "file_extension": ".py",
   "mimetype": "text/x-python",
   "name": "python",
   "nbconvert_exporter": "python",
   "pygments_lexer": "ipython3",
   "version": "3.8.12"
  },
  "source_map": [
   14,
   25,
   38,
   85,
   99,
   103,
   109,
   115,
   121,
   127,
   135,
   150,
   156
  ]
 },
 "nbformat": 4,
 "nbformat_minor": 5
}